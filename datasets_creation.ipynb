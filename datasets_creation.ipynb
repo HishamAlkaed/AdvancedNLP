{
 "cells": [
  {
   "cell_type": "markdown",
   "id": "cca9994b-b237-4369-b070-a3ebaf37ad79",
   "metadata": {},
   "source": [
    "In this notebook tests for the following capabilities will be implemented:\n",
    "\n",
    "1. The ability of an SRL system to correctly identify the predicate and its arguments (agent patient) in a three words sentence of the shape: Agent Predicate Patient \n",
    "2. The ability of an SRL system to correctly identify the predicate and its arguments (agent patient) in a passive voice sentence of the shape: Patient was Predicate by Agent \n",
    "3. The ability of an SRL system to correctly identify the argument after by in the passive voice.:\n",
    "    \n",
    "    a. instrument: by could refer to the instrumnet in which the action was performed with: Patient was Predicate by Instrument\n",
    "    \n",
    "    b. location: by could refer to the location the action was perfromed in: Patient was Predicate by Location\n",
    "    \n",
    "4. Different words in the same context\n",
    "5. Impersonal verbs\n",
    "6. Robustness\n",
    "    "
   ]
  },
  {
   "cell_type": "code",
   "execution_count": 1,
   "id": "77093d3e-34ce-4dce-8c64-82bc1111f9e7",
   "metadata": {},
   "outputs": [],
   "source": [
    "import checklist\n",
    "from checklist.editor import Editor\n",
    "from checklist.perturb import Perturb\n",
    "import numpy as np\n",
    "import json\n",
    "editor = Editor()"
   ]
  },
  {
   "cell_type": "markdown",
   "id": "1ae10415-11d2-456f-947e-a0502b4516ce",
   "metadata": {},
   "source": [
    "# test 1: Simple sentence with one predicate"
   ]
  },
  {
   "cell_type": "code",
   "execution_count": 2,
   "id": "8cb154e1-a737-4d33-9a77-da5ca874c889",
   "metadata": {},
   "outputs": [],
   "source": [
    "# Marry  likes   John  .\n",
    "# B-ARG0, B-V, B-ARG1, O\n",
    "ret = editor.template('{first_name1} {verb} {first_name2}.', verb=['likes', 'hates', 'loves'], remove_duplicates=True)\n",
    "test1 = np.random.choice(ret.data, 100)"
   ]
  },
  {
   "cell_type": "markdown",
   "id": "bf44c229-516c-485b-9749-70780d4cf793",
   "metadata": {},
   "source": [
    "# test 2: Simple passive voice with one predicate"
   ]
  },
  {
   "cell_type": "code",
   "execution_count": 3,
   "id": "f9e3719f-957a-4cf8-99f3-caa9d7104dac",
   "metadata": {},
   "outputs": [],
   "source": [
    "# John   is liked   by    Marry   .\n",
    "# B-ARG1, O, B-V, B-ARG0, I-ARG0, O\n",
    "def convert_to_passive(sentence):\n",
    "    \"\"\"\n",
    "    Converts the given active voice sentence to passive voice.\n",
    "\n",
    "    Args:\n",
    "    - sentence (str): The active voice sentence to be converted.\n",
    "\n",
    "    Returns:\n",
    "    - str: The passive voice sentence.\n",
    "    \"\"\"\n",
    "    # Tokenize the sentence\n",
    "    tokens = sentence.strip('.').split()\n",
    "\n",
    "    # Identify the agent and patient and verb\n",
    "    agent = tokens[0]\n",
    "    patient = tokens[2]\n",
    "    verb = tokens[1]\n",
    "\n",
    "    # Create the passive voice sentence\n",
    "    verb = verb[:-1]+'d'\n",
    "    passive_sentence = f\"{patient} is {verb} by {agent}.\"\n",
    "\n",
    "    return passive_sentence\n",
    "\n",
    "test2 = Perturb.perturb(test1, convert_to_passive).data\n",
    "test2 = [x[1] for x in test2]"
   ]
  },
  {
   "cell_type": "markdown",
   "id": "3e5117cf-7d11-44e3-85bf-0bcdd575b543",
   "metadata": {},
   "source": [
    "# test3.1: ”by” passive voice: location"
   ]
  },
  {
   "cell_type": "code",
   "execution_count": 4,
   "id": "3c996ea0-8dc8-40b5-88af-5e65d0664135",
   "metadata": {},
   "outputs": [],
   "source": [
    "# He    was seen     by         the         river     .\n",
    "# B-ARG1, O, B-V, B-ARGM-LOC, I-ARGM-LOC, I-ARGM-LOC, O\n",
    "\n",
    "# editor.related_words('He was seen by the river', 'river')\n",
    "# After running this, manual selection was performed and put into the following list"
   ]
  },
  {
   "cell_type": "code",
   "execution_count": 5,
   "id": "7c4b1dc6-c8dc-4b7b-92f2-5c991bda5cae",
   "metadata": {},
   "outputs": [],
   "source": [
    "places = ['river', 'sea', 'canal', 'water', 'vehicle', 'wall', 'lake', 'ice', 'mountain', 'waterfall', 'property', 'farm', 'association', 'range', 'reservoir', 'ocean', 'building', 'beach', 'field']\n",
    "test3_1 = editor.template('He was seen by the {place}.', place=places).data"
   ]
  },
  {
   "cell_type": "markdown",
   "id": "7d373e2a-cd61-4d62-8f9d-2ba86c52f4b5",
   "metadata": {},
   "source": [
    "# test 3.2: \"by\" passive voice: instrument"
   ]
  },
  {
   "cell_type": "code",
   "execution_count": 6,
   "id": "198559d0-51f7-43fc-a59f-8de9e20b6fd6",
   "metadata": {},
   "outputs": [],
   "source": [
    "# He    was killed   by    a      knife   .\n",
    "# B-ARG1, O, B-V, B-ARG2, I-ARG2, I-ARG2, O\n",
    "\n",
    "# editor.related_words('He was killed by a knife', 'knife')\n",
    "# After running this, manual selection was performed and put into the following list"
   ]
  },
  {
   "cell_type": "code",
   "execution_count": 7,
   "id": "03bd8996-ac70-45dd-b94a-f739c71afa03",
   "metadata": {},
   "outputs": [],
   "source": [
    "instrument = ['bullet', 'shotgun', 'missile', 'gun', 'rifle', 'shot', 'sword', 'slug', 'blade', 'firearm', 'projectile', 'handgun', 'ball', 'dart', 'pistol', 'dagger', 'spear', 'BB', 'bow', 'cannon']\n",
    "test3_2 = editor.template('He was killed by {a:instrument}.', instrument=instrument).data"
   ]
  },
  {
   "cell_type": "markdown",
   "id": "0d487c70-4812-4170-ba93-37b95756ea72",
   "metadata": {},
   "source": [
    "# test4: Different words in the same context"
   ]
  },
  {
   "cell_type": "code",
   "execution_count": 9,
   "id": "ed73b3e4-d06c-43e0-beb4-a08837317fe0",
   "metadata": {
    "tags": []
   },
   "outputs": [],
   "source": [
    "#   My     animal eats animals .\n",
    "# B-ARG0, I-ARG0, B-V, B-ARG1, O\n",
    "\n",
    "hypernyms = editor.hyponyms('My animal eats animals.', 'animal')\n",
    "hyponyms = editor.hypernyms('My animal eats animals.', 'animal')\n",
    "ret1 = editor.template('This is great {mask}.',  remove_duplicates=True) # this is to take illogical unrelated words\n",
    "random_words = [x.split()[-1].strip('.') for x in ret1.data]\n",
    "random_words = np.random.choice(random_words, 72)\n",
    "replacements = hypernyms + hyponyms + list(random_words)\n",
    "test4 = editor.template('My {replacements} eats animals.', replacements = replacements).data\n"
   ]
  },
  {
   "cell_type": "markdown",
   "id": "aafdc273-03b4-4b9d-9006-c4b5a5a59c3e",
   "metadata": {},
   "source": [
    "# test5: Impersonal verbs"
   ]
  },
  {
   "cell_type": "code",
   "execution_count": 10,
   "id": "b8979f18-3dc5-4eeb-b04a-2b58cda88aab",
   "metadata": {},
   "outputs": [],
   "source": [
    "# it is raining .\n",
    "# O  O    B-V   O\n",
    "# O  B-V    O   O\n",
    "\n",
    "# it feels     good      .\n",
    "# O   B-V   B-ARGM-MNR   O\n",
    "\n",
    "weather_verbs = ['raining', 'snowing', 'storming', 'sleeting', 'thundering', 'drizzling', 'pouring', 'showering', 'sprinkling']\n",
    "test5_1 = editor.template('it is {weather_verbs}.', weather_verbs = weather_verbs).data\n",
    "\n",
    "ret5 = editor.template('it feels {mask}.')\n",
    "test5_2 = np.random.choice(ret5.data, 91)"
   ]
  },
  {
   "cell_type": "markdown",
   "id": "c0f6fcdd-2608-436b-aa93-f90dcb918d85",
   "metadata": {},
   "source": [
    "# test6: Robustness"
   ]
  },
  {
   "cell_type": "code",
   "execution_count": 11,
   "id": "bdaefa1f-eec8-460c-8cdd-8e30b9b727bf",
   "metadata": {},
   "outputs": [],
   "source": [
    "test6_1 = np.random.choice(test1, 20)\n",
    "test6_2 = np.random.choice(test2, 20)\n",
    "test6_31 = np.random.choice(test3_1, 10)\n",
    "test6_32 = np.random.choice(test3_2, 10)\n",
    "test6_4 = np.random.choice(test4, 20)\n",
    "test6_51 = np.random.choice(test5_1, 5)\n",
    "test6_52 = np.random.choice(test5_2, 15)"
   ]
  },
  {
   "cell_type": "code",
   "execution_count": 12,
   "id": "82d1e337-5a1e-48b8-a0a8-95c420a2fce3",
   "metadata": {},
   "outputs": [],
   "source": [
    "test6_1 = Perturb.perturb(test6_1, Perturb.add_typos).data\n",
    "test6_1 = [x[1] for x in test6_1]\n",
    "test6_2 = Perturb.perturb(test6_2, Perturb.add_typos).data\n",
    "test6_2 = [x[1] for x in test6_2]\n",
    "test6_31 = Perturb.perturb(test6_31, Perturb.add_typos).data\n",
    "test6_31 = [x[1] for x in test6_31]\n",
    "test6_32 = Perturb.perturb(test6_32, Perturb.add_typos).data\n",
    "test6_32 = [x[1] for x in test6_32]\n",
    "test6_4 = Perturb.perturb(test6_4, Perturb.add_typos).data\n",
    "test6_4 = [x[1] for x in test6_4]\n",
    "test6_51 = Perturb.perturb(test6_51, Perturb.add_typos).data\n",
    "test6_51 = [x[1] for x in test6_51]\n",
    "test6_52 = Perturb.perturb(test6_52, Perturb.add_typos).data\n",
    "test6_52 = [x[1] for x in test6_52]"
   ]
  },
  {
   "cell_type": "markdown",
   "id": "e0d66008-c35e-42ae-9774-a71b6e29d8f0",
   "metadata": {},
   "source": [
    "# Creating datasets"
   ]
  },
  {
   "cell_type": "code",
   "execution_count": 13,
   "id": "08676a3d-081f-46ce-8dd1-e96f09d76a76",
   "metadata": {},
   "outputs": [],
   "source": [
    "def list_to_json(data, annotations = list):\n",
    "    list_of_dics = []\n",
    "    for x in data:\n",
    "        dic = {}\n",
    "        dic['sentence'] = x\n",
    "        dic['tags'] = annotations\n",
    "        dic['words'] = x.split()\n",
    "        if dic['words'][-1][-1] == '.':\n",
    "            splitted = dic['words']\n",
    "            dic['words'][-1] = dic['words'][-1][:-1]\n",
    "            dic['words'].append('.')\n",
    "        list_of_dics.append(dic)\n",
    "    return list_of_dics"
   ]
  },
  {
   "cell_type": "code",
   "execution_count": 14,
   "id": "489362d3-9628-45ba-8a82-d0d899361680",
   "metadata": {},
   "outputs": [],
   "source": [
    "data1 = list_to_json(test1, annotations = ['B-ARG0', 'B-V', 'B-ARG1', 'O'])\n",
    "\n",
    "data2 = list_to_json(test2, annotations = ['B-ARG1', 'O', 'B-V', 'B-ARG0', 'I-ARG0', 'O'])\n",
    "\n",
    "data3_1 = list_to_json(test3_1, annotations = ['B-ARG1', 'O', 'B-V', 'B-ARGM-LOC', 'I-ARGM-LOC', 'I-ARGM-LOC', 'O'])\n",
    "data3_2 = list_to_json(test3_2, annotations = ['B-ARG1', 'O', 'B-V', 'B-ARG2', 'I-ARG2', 'I-ARG2', 'O'])\n",
    "data3 = data3_1 + data3_2\n",
    "\n",
    "data4 = list_to_json(test4, annotations = ['B-ARG0', 'I-ARG0', 'B-V', 'B-ARG1', 'O'])\n",
    "\n",
    "data5_1 = list_to_json(test5_1, annotations = ['O', 'O', 'B-V', 'O'])\n",
    "data5_2 = list_to_json(test5_2, annotations = ['B-ARG1', 'B-V', 'B-ARGM-MNR', 'O'])\n",
    "data5 = data5_1 + data5_2"
   ]
  },
  {
   "cell_type": "code",
   "execution_count": 15,
   "id": "55b123b0-932e-4401-a7ba-4bfd84cc3afc",
   "metadata": {},
   "outputs": [],
   "source": [
    "data6_1 = list_to_json(test6_1, annotations = ['B-ARG0', 'B-V', 'B-ARG1', 'O'])\n",
    "\n",
    "data6_2 = list_to_json(test6_2, annotations = ['B-ARG1', 'O', 'B-V', 'B-ARG0', 'I-ARG0', 'O'])\n",
    "\n",
    "data6_31 = list_to_json(test6_31, annotations = ['B-ARG1', 'O', 'B-V', 'B-ARGM-LOC', 'I-ARGM-LOC', 'I-ARGM-LOC', 'O'])\n",
    "data6_32 = list_to_json(test6_32, annotations = ['B-ARG1', 'O', 'B-V', 'B-ARG2', 'I-ARG2', 'I-ARG2', 'O'])\n",
    "data6_3 = data6_31 + data6_32\n",
    "\n",
    "data6_4 = list_to_json(test6_4, annotations = ['B-ARG0', 'I-ARG0', 'B-V', 'B-ARG1', 'O'])\n",
    "\n",
    "data6_51 = list_to_json(test6_51, annotations = ['O', 'O', 'B-V', 'O'])\n",
    "data6_52 = list_to_json(test6_52, annotations = ['B-ARG1', 'B-V', 'B-ARGM-MNR', 'O'])\n",
    "data6_5 = data6_51 + data6_52\n",
    "\n",
    "data6 = data6_1 + data6_2 + data6_3 + data6_4 + data6_5"
   ]
  },
  {
   "cell_type": "code",
   "execution_count": 16,
   "id": "0fe84470-0be0-415d-a43a-c9ac909e8ad0",
   "metadata": {},
   "outputs": [],
   "source": [
    "def check_period(dic):\n",
    "    \"\"\"\n",
    "    Checks if the length of the 'tags' list in a dictionary matches the length of the 'words' list.\n",
    "    If they do not match, removes the last element from the 'tags' list. Meaning the added typo removed the period.\n",
    "\n",
    "    Args:\n",
    "        dictionary (dict): A dictionary containing 'words' and 'tags' lists.\n",
    "\n",
    "    Returns:\n",
    "        dict: The updated dictionary with the 'tags' list truncated if needed.\n",
    "    \"\"\"\n",
    "    if len(dic['tags']) != len(dic['words']):\n",
    "        dic['tags'] = dic['tags'][:-1]\n",
    "        return(dic)\n",
    "\n",
    "for d in data6:\n",
    "    check_period(d)"
   ]
  },
  {
   "cell_type": "code",
   "execution_count": 17,
   "id": "e15566bf-4a90-4aeb-8bd7-d27eea266259",
   "metadata": {},
   "outputs": [
    {
     "name": "stdout",
     "output_type": "stream",
     "text": [
      "100 100 39 100 100 100\n"
     ]
    }
   ],
   "source": [
    "print(len(data1), len(data2), len(data3), len(data4), len(data5), len(data6))"
   ]
  },
  {
   "cell_type": "code",
   "execution_count": 18,
   "id": "e3ad8043-b41f-462b-bdbd-2b174f030248",
   "metadata": {},
   "outputs": [],
   "source": [
    "# Save the data to a JSON files\n",
    "\n",
    "# List of variable names\n",
    "variables = ['data1', 'data2', 'data3', 'data4', 'data5', 'data6']\n",
    "# Loop over variables and save to JSON file\n",
    "for var in variables:\n",
    "    data = eval(var)  # Get the value of the variable\n",
    "    filename = 'data/' + var + '.json'  # Construct the filename\n",
    "    with open(filename, 'w') as f:\n",
    "        json.dump(data, f)  # Write the data to the file"
   ]
  },
  {
   "cell_type": "code",
   "execution_count": null,
   "id": "f351c6b7-b2ad-4266-b1fe-bf31dde81041",
   "metadata": {},
   "outputs": [],
   "source": []
  }
 ],
 "metadata": {
  "kernelspec": {
   "display_name": "Python 3 (ipykernel)",
   "language": "python",
   "name": "python3"
  },
  "language_info": {
   "codemirror_mode": {
    "name": "ipython",
    "version": 3
   },
   "file_extension": ".py",
   "mimetype": "text/x-python",
   "name": "python",
   "nbconvert_exporter": "python",
   "pygments_lexer": "ipython3",
   "version": "3.10.7"
  }
 },
 "nbformat": 4,
 "nbformat_minor": 5
}
