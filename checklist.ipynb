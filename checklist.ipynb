{
 "cells": [
  {
   "cell_type": "code",
   "execution_count": 1,
   "id": "77093d3e-34ce-4dce-8c64-82bc1111f9e7",
   "metadata": {},
   "outputs": [],
   "source": [
    "import checklist\n",
    "from checklist.editor import Editor\n",
    "from checklist.perturb import Perturb\n",
    "import numpy as np\n",
    "editor = Editor()"
   ]
  },
  {
   "cell_type": "markdown",
   "id": "1ae10415-11d2-456f-947e-a0502b4516ce",
   "metadata": {},
   "source": [
    "# test 1: Simple sentence with one predicate"
   ]
  },
  {
   "cell_type": "code",
   "execution_count": 58,
   "id": "8cb154e1-a737-4d33-9a77-da5ca874c889",
   "metadata": {},
   "outputs": [],
   "source": [
    "ret = editor.template('{first_name1} {verb} {first_name2}.', \n",
    "                      verb=['likes', 'hates', 'loves'], remove_duplicates=True)\n",
    "test1 = np.random.choice(ret.data, 100)"
   ]
  },
  {
   "cell_type": "markdown",
   "id": "0cdb48b4-c4dd-4ca8-905b-908342815646",
   "metadata": {
    "jp-MarkdownHeadingCollapsed": true,
    "tags": []
   },
   "source": [
    "# test 2: Complex sentence with multiple predicates"
   ]
  },
  {
   "cell_type": "code",
   "execution_count": null,
   "id": "a0095778-b72e-4fe8-b3ea-ffc8daa4ab4d",
   "metadata": {},
   "outputs": [],
   "source": [
    "ret = editor.template('{first_name1} {verb_one} {mask}, {verb_two} {mask} and {verb_three} for {first_name2} to {verb_four}.', \n",
    "                      verb_one = ['called', 'contacted', 'saw', 'heared'],\n",
    "                      verb_two = ['called', 'contacted', 'saw', 'heared', 'picked'],\n",
    "                      verb_three = ['waited'],\n",
    "                      verb_four=['eat', 'feel', 'contemplate', 'respond', 'react'],\n",
    "                      remove_duplicates=True)\n",
    "np.random.choice(ret.data, 100)"
   ]
  },
  {
   "cell_type": "markdown",
   "id": "bf44c229-516c-485b-9749-70780d4cf793",
   "metadata": {},
   "source": [
    "# test 3: Simple passive voice with one predicate"
   ]
  },
  {
   "cell_type": "code",
   "execution_count": 3,
   "id": "f9e3719f-957a-4cf8-99f3-caa9d7104dac",
   "metadata": {},
   "outputs": [],
   "source": [
    "def convert_to_passive(sentence):\n",
    "\n",
    "    # Tokenize the sentence\n",
    "    tokens = sentence.strip('.').split()\n",
    "\n",
    "    # Identify the agent and patient and verb\n",
    "    agent = tokens[0]\n",
    "    patient = tokens[2]\n",
    "    verb = tokens[1]\n",
    "\n",
    "    # Create the passive voice sentence\n",
    "    verb = verb[:-1]+'d'\n",
    "    passive_sentence = f\"{patient} is {verb} by {agent}\"\n",
    "\n",
    "    return passive_sentence"
   ]
  },
  {
   "cell_type": "code",
   "execution_count": 17,
   "id": "4bec2a62-8ab7-41e4-8017-dc9430886025",
   "metadata": {},
   "outputs": [],
   "source": [
    "test3 = Perturb.perturb(test1, convert_to_passive).data"
   ]
  },
  {
   "cell_type": "markdown",
   "id": "3e5117cf-7d11-44e3-85bf-0bcdd575b543",
   "metadata": {},
   "source": [
    "# test4.1: Misleading ”by” with passive voice: location"
   ]
  },
  {
   "cell_type": "code",
   "execution_count": 13,
   "id": "3c996ea0-8dc8-40b5-88af-5e65d0664135",
   "metadata": {},
   "outputs": [],
   "source": [
    "# editor.related_words('He was seen by the river', 'river')\n",
    "# After running this, manual selection was performed and put into the following list"
   ]
  },
  {
   "cell_type": "code",
   "execution_count": 37,
   "id": "7c4b1dc6-c8dc-4b7b-92f2-5c991bda5cae",
   "metadata": {},
   "outputs": [],
   "source": [
    "places = ['river', 'sea', 'canal', 'water', 'vehicle', 'wall', 'lake', 'ice', 'mountain', 'waterfall', 'property', 'farm', 'association', 'range', 'reservoir']"
   ]
  },
  {
   "cell_type": "code",
   "execution_count": 38,
   "id": "d04f7b58-eea8-4105-ac2c-66d59f64033e",
   "metadata": {},
   "outputs": [],
   "source": [
    "test4_1 = editor.template('He was seen by the {place}.', place=places).data"
   ]
  },
  {
   "cell_type": "code",
   "execution_count": null,
   "id": "eb9a153f-00c1-4c02-94b3-241ca2601cb6",
   "metadata": {},
   "outputs": [],
   "source": [
    "test4_1"
   ]
  },
  {
   "cell_type": "markdown",
   "id": "7d373e2a-cd61-4d62-8f9d-2ba86c52f4b5",
   "metadata": {},
   "source": [
    "# test 4.2: Misleading \"by\" with passive voice: instrument"
   ]
  },
  {
   "cell_type": "code",
   "execution_count": 39,
   "id": "198559d0-51f7-43fc-a59f-8de9e20b6fd6",
   "metadata": {},
   "outputs": [],
   "source": [
    "# editor.related_words('He was killed by a knife', 'knife')\n",
    "# After running this, manual selection was performed and put into the following list"
   ]
  },
  {
   "cell_type": "code",
   "execution_count": 40,
   "id": "03bd8996-ac70-45dd-b94a-f739c71afa03",
   "metadata": {},
   "outputs": [],
   "source": [
    "instrument = ['bullet', 'shotgun', 'missile', 'gun', 'rifle', 'shot', 'sword', 'slug', 'blade', 'firearm', 'projectile', 'handgun', 'ball', 'dart', 'pistol', 'dagger', 'spear', 'BB', 'bow', 'cannon']"
   ]
  },
  {
   "cell_type": "code",
   "execution_count": 41,
   "id": "0f29a50a-ac90-47e3-be32-a9ff33a443be",
   "metadata": {},
   "outputs": [],
   "source": [
    "test4_2 = editor.template('He was killed by {a:instrument}.', instrument=instrument).data"
   ]
  },
  {
   "cell_type": "code",
   "execution_count": 42,
   "id": "6e191b74-40b4-403f-80b5-7e96efe74b06",
   "metadata": {},
   "outputs": [
    {
     "data": {
      "text/plain": [
       "['He was seen by the river.',\n",
       " 'He was seen by the sea.',\n",
       " 'He was seen by the canal.',\n",
       " 'He was seen by the water.',\n",
       " 'He was seen by the vehicle.',\n",
       " 'He was seen by the wall.',\n",
       " 'He was seen by the lake.',\n",
       " 'He was seen by the ice.',\n",
       " 'He was seen by the mountain.',\n",
       " 'He was seen by the waterfall.',\n",
       " 'He was seen by the property.',\n",
       " 'He was seen by the farm.',\n",
       " 'He was seen by the association.',\n",
       " 'He was seen by the range.',\n",
       " 'He was seen by the reservoir.']"
      ]
     },
     "execution_count": 42,
     "metadata": {},
     "output_type": "execute_result"
    }
   ],
   "source": [
    "test4_1"
   ]
  },
  {
   "cell_type": "markdown",
   "id": "747d0453-178c-43cf-b488-d15e43a091e8",
   "metadata": {},
   "source": [
    "# test5: Explainable ambiguity"
   ]
  },
  {
   "cell_type": "code",
   "execution_count": null,
   "id": "a60328f6-c7e5-45a7-aa89-a1c59a6141cc",
   "metadata": {},
   "outputs": [],
   "source": []
  },
  {
   "cell_type": "markdown",
   "id": "1b06904e-2168-49af-8648-b1e651386189",
   "metadata": {},
   "source": [
    "# test6: Different context for the same word"
   ]
  },
  {
   "cell_type": "code",
   "execution_count": 55,
   "id": "e85c573d-ec0d-4281-9d77-8bd68bc569ef",
   "metadata": {},
   "outputs": [],
   "source": [
    "ret = editor.template('I run the {mask}.')"
   ]
  },
  {
   "cell_type": "code",
   "execution_count": 56,
   "id": "fbc6bf56-db69-43b8-8f54-60f90995103e",
   "metadata": {
    "collapsed": true,
    "jupyter": {
     "outputs_hidden": true
    },
    "tags": []
   },
   "outputs": [
    {
     "data": {
      "text/plain": [
       "['I run the race.',\n",
       " 'I run the course.',\n",
       " 'I run the marathon.',\n",
       " 'I run the route.',\n",
       " 'I run the mile.',\n",
       " 'I run the loop.',\n",
       " 'I run the numbers.',\n",
       " 'I run the test.',\n",
       " 'I run the treadmill.',\n",
       " 'I run the track.',\n",
       " 'I run the miles.',\n",
       " 'I run the hills.',\n",
       " 'I run the walk.',\n",
       " 'I run the dog.',\n",
       " 'I run the distance.',\n",
       " 'I run the show.',\n",
       " 'I run the streets.',\n",
       " 'I run the risk.',\n",
       " 'I run the thing.',\n",
       " 'I run the trial.',\n",
       " 'I run the run.',\n",
       " 'I run the line.',\n",
       " 'I run the math.',\n",
       " 'I run the stairs.',\n",
       " 'I run the circuit.',\n",
       " 'I run the relay.',\n",
       " 'I run the races.',\n",
       " 'I run the video.',\n",
       " 'I run the leg.',\n",
       " 'I run the program.',\n",
       " 'I run the dogs.',\n",
       " 'I run the class.',\n",
       " 'I run the Marathon.',\n",
       " 'I run the challenge.',\n",
       " 'I run the plank.',\n",
       " 'I run the rest.',\n",
       " 'I run the bike.',\n",
       " 'I run the Y.',\n",
       " 'I run the shuttle.',\n",
       " 'I run the section.',\n",
       " 'I run the table.',\n",
       " 'I run the tests.',\n",
       " 'I run the legs.',\n",
       " 'I run the routes.',\n",
       " 'I run the simulation.',\n",
       " 'I run the event.',\n",
       " 'I run the loops.',\n",
       " 'I run the following.',\n",
       " 'I run the stuff.',\n",
       " 'I run the sprint.',\n",
       " 'I run the wheel.',\n",
       " 'I run the workout.',\n",
       " 'I run the trail.',\n",
       " 'I run the clock.',\n",
       " 'I run the half.',\n",
       " 'I run the laps.',\n",
       " 'I run the heat.',\n",
       " 'I run the same.',\n",
       " 'I run the time.',\n",
       " 'I run the fastest.',\n",
       " 'I run the mileage.',\n",
       " 'I run the courses.',\n",
       " 'I run the clinic.',\n",
       " 'I run the bases.',\n",
       " 'I run the game.',\n",
       " 'I run the bridge.',\n",
       " 'I run the ball.',\n",
       " 'I run the part.',\n",
       " 'I run the bulls.',\n",
       " 'I run the average.',\n",
       " 'I run the draft.',\n",
       " 'I run the swim.',\n",
       " 'I run the ad.',\n",
       " 'I run the jog.',\n",
       " 'I run the block.',\n",
       " 'I run the experiment.',\n",
       " 'I run the whole.',\n",
       " 'I run the shit.',\n",
       " 'I run the exercises.',\n",
       " 'I run the hill.',\n",
       " 'I run the exercise.',\n",
       " 'I run the drills.',\n",
       " 'I run the first.',\n",
       " 'I run the segment.',\n",
       " 'I run the number.',\n",
       " 'I run the polls.',\n",
       " 'I run the trails.',\n",
       " 'I run the lap.',\n",
       " 'I run the session.',\n",
       " 'I run the park.',\n",
       " 'I run the team.',\n",
       " 'I run the hell.',\n",
       " 'I run the blind.',\n",
       " 'I run the process.',\n",
       " 'I run the gun.',\n",
       " 'I run the circles.',\n",
       " 'I run the car.',\n",
       " 'I run the bathroom.',\n",
       " 'I run the bar.',\n",
       " 'I run the workouts.']"
      ]
     },
     "execution_count": 56,
     "metadata": {},
     "output_type": "execute_result"
    }
   ],
   "source": [
    "ret.data"
   ]
  },
  {
   "cell_type": "markdown",
   "id": "0d487c70-4812-4170-ba93-37b95756ea72",
   "metadata": {},
   "source": [
    "# test7: Different words in the same context"
   ]
  },
  {
   "cell_type": "code",
   "execution_count": 102,
   "id": "ed73b3e4-d06c-43e0-beb4-a08837317fe0",
   "metadata": {},
   "outputs": [],
   "source": [
    "ret = editor.template('{mask}', remove_duplicates=True)\n",
    "x = np.random.choice(ret.data, 100)"
   ]
  },
  {
   "cell_type": "code",
   "execution_count": 103,
   "id": "3c845cc9-402f-4261-b4cc-f98e6ddc4d8e",
   "metadata": {},
   "outputs": [
    {
     "data": {
      "text/plain": [
       "68"
      ]
     },
     "execution_count": 103,
     "metadata": {},
     "output_type": "execute_result"
    }
   ],
   "source": [
    "len(set(x))"
   ]
  },
  {
   "cell_type": "code",
   "execution_count": 104,
   "id": "a2df5a87-c727-4da0-8bbc-617072955d3a",
   "metadata": {},
   "outputs": [
    {
     "data": {
      "text/plain": [
       "array(['2015', '.', '?', '7', 'xi', '***', '2018', 'Print', '1',\n",
       "       'Advertisement', 'Contact', 'Japan', '4', 'Notes', ':', '*',\n",
       "       'Education', '21', '...', '2013', '§', 'Discussion', ':', 'Canada',\n",
       "       'California', 'California', 'xxx', '===', '!', '…', '7', '2',\n",
       "       'Video', 'YouTube', 'Conclusion', '-', 'Advertisement',\n",
       "       'advertisement', 'Comments', '-----', '5', 'Texas', '…', 'Content',\n",
       "       '?', '–', 'Japan', '3', '15', 'I', '11', '-', '3', 'Canada', '13',\n",
       "       'II', 'Contact', '10', '2014', 'Source', 'Photo', '------',\n",
       "       '*****', 'Print', 'Canada', 'Notes', '19', 'California', '2', '10',\n",
       "       'Notes', 'Conclusion', '7', 'Introduction', '9', 'References',\n",
       "       '2015', '-', '—-', 'Links', '5', 'III', 'Abstract', '—', '9',\n",
       "       '*****', 'California', 'Notes', 'Japan', 'Quotes', 'SPONSORED',\n",
       "       '****', '--------', 'III', 'Texas', '9', 'D', 'A', '23', '3'],\n",
       "      dtype='<U24')"
      ]
     },
     "execution_count": 104,
     "metadata": {},
     "output_type": "execute_result"
    }
   ],
   "source": [
    "x"
   ]
  },
  {
   "cell_type": "code",
   "execution_count": null,
   "id": "78670df6-0b8c-4020-a195-9a99c9ce5827",
   "metadata": {},
   "outputs": [],
   "source": []
  },
  {
   "cell_type": "code",
   "execution_count": null,
   "id": "fbcb5bb6-184b-4008-872b-1d73e58fe444",
   "metadata": {},
   "outputs": [],
   "source": []
  }
 ],
 "metadata": {
  "kernelspec": {
   "display_name": "Python 3 (ipykernel)",
   "language": "python",
   "name": "python3"
  },
  "language_info": {
   "codemirror_mode": {
    "name": "ipython",
    "version": 3
   },
   "file_extension": ".py",
   "mimetype": "text/x-python",
   "name": "python",
   "nbconvert_exporter": "python",
   "pygments_lexer": "ipython3",
   "version": "3.10.6"
  }
 },
 "nbformat": 4,
 "nbformat_minor": 5
}
